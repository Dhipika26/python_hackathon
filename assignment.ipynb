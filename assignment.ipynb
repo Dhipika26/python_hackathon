{
 "cells": [
  {
   "cell_type": "code",
   "execution_count": 6,
   "id": "2e52f243",
   "metadata": {},
   "outputs": [],
   "source": [
    "import pandas as pd\n",
    "import numpy as np\n"
   ]
  },
  {
   "cell_type": "code",
   "execution_count": 7,
   "id": "70649f6b",
   "metadata": {},
   "outputs": [
    {
     "data": {
      "text/plain": [
       "['Patients',\n",
       " 'EDVisits',\n",
       " 'AmbulatoryVisits',\n",
       " 'ReAdmissionRegistry',\n",
       " 'Discharges',\n",
       " 'Providers',\n",
       " 'EDUnique']"
      ]
     },
     "execution_count": 7,
     "metadata": {},
     "output_type": "execute_result"
    }
   ],
   "source": [
    "xls=pd.ExcelFile(r\"C:\\Users\\Arjun-Meka\\Documents\\HospitalDatabase.xlsx\")\n",
    "# xls = pd.ExcelFile('path_to_file.xls')\n",
    "df_Patients = pd.read_excel(xls, 'Patients')\n",
    "df_EDVisits = pd.read_excel(xls, 'EDVisits')\n",
    "df_AmbulatoryVisits = pd.read_excel(xls, 'AmbulatoryVisits')\n",
    "df_ReAdmissionRegistry = pd.read_excel(xls, 'ReAdmissionRegistry')\n",
    "df_Discharges = pd.read_excel(xls, 'Discharges')\n",
    "df_Providers= pd.read_excel(xls, 'Providers')\n",
    "df_EDUnique= pd.read_excel(xls, 'EDUnique')\n",
    "xls.sheet_names\n",
    "\n"
   ]
  },
  {
   "cell_type": "code",
   "execution_count": 8,
   "id": "0357da0e",
   "metadata": {},
   "outputs": [],
   "source": [
    "# 33.Using a bar chart, which Service had the lowest count of Expected Mortality?"
   ]
  },
  {
   "cell_type": "code",
   "execution_count": 9,
   "id": "f2a6f62f",
   "metadata": {},
   "outputs": [],
   "source": [
    "#to get the minimum/lowest values for each service\n",
    "df_EMor= df_Discharges[df_Discharges['ExpectedMortality'] == df_Discharges.groupby('Service')['ExpectedMortality'].transform('min')]\n",
    "#to reset the index\n",
    "df_reset=df_EMor.reset_index(drop=True)\n",
    "df_sorted= df_reset.sort_values('ExpectedMortality')\n"
   ]
  },
  {
   "cell_type": "code",
   "execution_count": 10,
   "id": "aa63798b",
   "metadata": {},
   "outputs": [
    {
     "ename": "NameError",
     "evalue": "name 'plt' is not defined",
     "output_type": "error",
     "traceback": [
      "\u001b[1;31m---------------------------------------------------------------------------\u001b[0m",
      "\u001b[1;31mNameError\u001b[0m                                 Traceback (most recent call last)",
      "Input \u001b[1;32mIn [10]\u001b[0m, in \u001b[0;36m<cell line: 3>\u001b[1;34m()\u001b[0m\n\u001b[0;32m      1\u001b[0m \u001b[38;5;28;01mimport\u001b[39;00m \u001b[38;5;21;01mseaborn\u001b[39;00m \u001b[38;5;28;01mas\u001b[39;00m \u001b[38;5;21;01msns\u001b[39;00m\n\u001b[0;32m      2\u001b[0m \u001b[38;5;66;03m# Defining the plot size\u001b[39;00m\n\u001b[1;32m----> 3\u001b[0m \u001b[43mplt\u001b[49m\u001b[38;5;241m.\u001b[39mfigure(figsize\u001b[38;5;241m=\u001b[39m(\u001b[38;5;241m8\u001b[39m, \u001b[38;5;241m8\u001b[39m))\n\u001b[0;32m      5\u001b[0m \u001b[38;5;66;03m# Defining the values for x-axis, y-axis\u001b[39;00m\n\u001b[0;32m      6\u001b[0m plots \u001b[38;5;241m=\u001b[39m sns\u001b[38;5;241m.\u001b[39mbarplot(x\u001b[38;5;241m=\u001b[39m\u001b[38;5;124m\"\u001b[39m\u001b[38;5;124mService\u001b[39m\u001b[38;5;124m\"\u001b[39m, y\u001b[38;5;241m=\u001b[39m\u001b[38;5;124m\"\u001b[39m\u001b[38;5;124mExpectedMortality\u001b[39m\u001b[38;5;124m\"\u001b[39m, data\u001b[38;5;241m=\u001b[39mdf_sorted)\n",
      "\u001b[1;31mNameError\u001b[0m: name 'plt' is not defined"
     ]
    }
   ],
   "source": [
    "import seaborn as sns\n",
    "# Defining the plot size\n",
    "plt.figure(figsize=(8, 8))\n",
    " \n",
    "# Defining the values for x-axis, y-axis\n",
    "plots = sns.barplot(x=\"Service\", y=\"ExpectedMortality\", data=df_sorted)\n",
    " \n",
    "# Iterrating over the bars one by one\n",
    "for bar in plots.patches:\n",
    "   \n",
    "  # Using Matplotlib's annotate function and\n",
    "  # passing the coordinates where the annotation shall be done\n",
    "  # x-coordinate: bar.get_x() + bar.get_width() / 2\n",
    "  # y-coordinate: bar.get_height()\n",
    "    plots.annotate(format(bar.get_height(), '.6f'),\n",
    "                   (bar.get_x() + bar.get_width() / 2,\n",
    "                    bar.get_height()), ha='center', va='center',\n",
    "                   size=15, xytext=(0, 8),\n",
    "                   textcoords='offset points')\n",
    "    # Setting the label for x-axis\n",
    "plt.xlabel(\"Service\", size=14)\n",
    " \n",
    "# Setting the label for y-axis\n",
    "plt.ylabel(\"ExpectedMortality\", size=14)\n",
    " \n",
    "# Setting the title for the graph\n",
    "plt.title(\"Serivce with lowest Expected Mortality\")\n",
    " \n",
    "# Finally showing the plot\n",
    "plt.show()\n",
    "\n",
    "#the Answer is \"General Medicine\""
   ]
  },
  {
   "cell_type": "code",
   "execution_count": null,
   "id": "2f66af34",
   "metadata": {},
   "outputs": [],
   "source": []
  },
  {
   "cell_type": "code",
   "execution_count": 11,
   "id": "a2127656",
   "metadata": {},
   "outputs": [
    {
     "data": {
      "text/plain": [
       "array([[11, 12],\n",
       "       [16, 17]])"
      ]
     },
     "execution_count": 11,
     "metadata": {},
     "output_type": "execute_result"
    }
   ],
   "source": [
    "#34)np.arange(1,31).reshape(6,5) Find the array slicing to get the elements with values 11,12,16,17\n",
    "\n",
    "y=np.arange(1,31).reshape(6,5)\n",
    "y[2:4, 0:2]"
   ]
  },
  {
   "cell_type": "code",
   "execution_count": 12,
   "id": "b5ceb543",
   "metadata": {},
   "outputs": [
    {
     "data": {
      "text/plain": [
       "array([ 2,  8, 14, 20])"
      ]
     },
     "execution_count": 12,
     "metadata": {},
     "output_type": "execute_result"
    }
   ],
   "source": [
    "#35)np.arange(1,31).reshape(6,5), find array slicing for elements 2,8,14,20\n",
    "diag=np.arange(1,31).reshape(6,5)\n",
    "np.diag(diag,k=1)"
   ]
  },
  {
   "cell_type": "code",
   "execution_count": null,
   "id": "0b02aa17",
   "metadata": {},
   "outputs": [],
   "source": []
  },
  {
   "cell_type": "code",
   "execution_count": 13,
   "id": "b519aa45",
   "metadata": {},
   "outputs": [
    {
     "data": {
      "text/html": [
       "<div>\n",
       "<style scoped>\n",
       "    .dataframe tbody tr th:only-of-type {\n",
       "        vertical-align: middle;\n",
       "    }\n",
       "\n",
       "    .dataframe tbody tr th {\n",
       "        vertical-align: top;\n",
       "    }\n",
       "\n",
       "    .dataframe thead th {\n",
       "        text-align: right;\n",
       "    }\n",
       "</style>\n",
       "<table border=\"1\" class=\"dataframe\">\n",
       "  <thead>\n",
       "    <tr style=\"text-align: right;\">\n",
       "      <th></th>\n",
       "      <th>EDVisitID</th>\n",
       "      <th>PatientID</th>\n",
       "      <th>VisitDate</th>\n",
       "      <th>EDDischargeTime</th>\n",
       "      <th>Acuity</th>\n",
       "      <th>ReasonForVisit</th>\n",
       "      <th>EDDisposition</th>\n",
       "    </tr>\n",
       "  </thead>\n",
       "  <tbody>\n",
       "    <tr>\n",
       "      <th>0</th>\n",
       "      <td>1</td>\n",
       "      <td>1</td>\n",
       "      <td>2020-01-01 00:00:00.000</td>\n",
       "      <td>2020-01-01 11:20:22.924</td>\n",
       "      <td>1</td>\n",
       "      <td>Stomach Ache</td>\n",
       "      <td>Admitted</td>\n",
       "    </tr>\n",
       "    <tr>\n",
       "      <th>1</th>\n",
       "      <td>12</td>\n",
       "      <td>12</td>\n",
       "      <td>2020-01-01 02:45:40.302</td>\n",
       "      <td>2020-01-02 02:00:00.517</td>\n",
       "      <td>2</td>\n",
       "      <td>Migraine</td>\n",
       "      <td>Admitted</td>\n",
       "    </tr>\n",
       "    <tr>\n",
       "      <th>2</th>\n",
       "      <td>13</td>\n",
       "      <td>13</td>\n",
       "      <td>2020-01-01 03:09:24.701</td>\n",
       "      <td>2020-01-01 05:00:20.852</td>\n",
       "      <td>3</td>\n",
       "      <td>Stomach Ache</td>\n",
       "      <td>Admitted</td>\n",
       "    </tr>\n",
       "    <tr>\n",
       "      <th>3</th>\n",
       "      <td>14</td>\n",
       "      <td>14</td>\n",
       "      <td>2020-01-01 03:12:19.349</td>\n",
       "      <td>2020-01-01 04:32:29.142</td>\n",
       "      <td>3</td>\n",
       "      <td>Migraine</td>\n",
       "      <td>Admitted</td>\n",
       "    </tr>\n",
       "    <tr>\n",
       "      <th>4</th>\n",
       "      <td>15</td>\n",
       "      <td>15</td>\n",
       "      <td>2020-01-01 03:46:32.698</td>\n",
       "      <td>2020-01-01 06:24:52.741</td>\n",
       "      <td>3</td>\n",
       "      <td>Chest Pain</td>\n",
       "      <td>Admitted</td>\n",
       "    </tr>\n",
       "  </tbody>\n",
       "</table>\n",
       "</div>"
      ],
      "text/plain": [
       "   EDVisitID  PatientID               VisitDate         EDDischargeTime  \\\n",
       "0          1          1 2020-01-01 00:00:00.000 2020-01-01 11:20:22.924   \n",
       "1         12         12 2020-01-01 02:45:40.302 2020-01-02 02:00:00.517   \n",
       "2         13         13 2020-01-01 03:09:24.701 2020-01-01 05:00:20.852   \n",
       "3         14         14 2020-01-01 03:12:19.349 2020-01-01 04:32:29.142   \n",
       "4         15         15 2020-01-01 03:46:32.698 2020-01-01 06:24:52.741   \n",
       "\n",
       "   Acuity ReasonForVisit EDDisposition  \n",
       "0       1   Stomach Ache      Admitted  \n",
       "1       2       Migraine      Admitted  \n",
       "2       3   Stomach Ache      Admitted  \n",
       "3       3       Migraine      Admitted  \n",
       "4       3     Chest Pain      Admitted  "
      ]
     },
     "execution_count": 13,
     "metadata": {},
     "output_type": "execute_result"
    }
   ],
   "source": [
    "#36)Create a correlation matrix on EDVisits\n",
    "\n",
    "df_EDVisits.head()"
   ]
  },
  {
   "cell_type": "code",
   "execution_count": 14,
   "id": "ab39176d",
   "metadata": {},
   "outputs": [
    {
     "data": {
      "text/html": [
       "<div>\n",
       "<style scoped>\n",
       "    .dataframe tbody tr th:only-of-type {\n",
       "        vertical-align: middle;\n",
       "    }\n",
       "\n",
       "    .dataframe tbody tr th {\n",
       "        vertical-align: top;\n",
       "    }\n",
       "\n",
       "    .dataframe thead th {\n",
       "        text-align: right;\n",
       "    }\n",
       "</style>\n",
       "<table border=\"1\" class=\"dataframe\">\n",
       "  <thead>\n",
       "    <tr style=\"text-align: right;\">\n",
       "      <th></th>\n",
       "      <th>EDVisitID</th>\n",
       "      <th>PatientID</th>\n",
       "      <th>Acuity</th>\n",
       "    </tr>\n",
       "  </thead>\n",
       "  <tbody>\n",
       "    <tr>\n",
       "      <th>EDVisitID</th>\n",
       "      <td>1.000000</td>\n",
       "      <td>0.975477</td>\n",
       "      <td>0.005813</td>\n",
       "    </tr>\n",
       "    <tr>\n",
       "      <th>PatientID</th>\n",
       "      <td>0.975477</td>\n",
       "      <td>1.000000</td>\n",
       "      <td>0.003545</td>\n",
       "    </tr>\n",
       "    <tr>\n",
       "      <th>Acuity</th>\n",
       "      <td>0.005813</td>\n",
       "      <td>0.003545</td>\n",
       "      <td>1.000000</td>\n",
       "    </tr>\n",
       "  </tbody>\n",
       "</table>\n",
       "</div>"
      ],
      "text/plain": [
       "           EDVisitID  PatientID    Acuity\n",
       "EDVisitID   1.000000   0.975477  0.005813\n",
       "PatientID   0.975477   1.000000  0.003545\n",
       "Acuity      0.005813   0.003545  1.000000"
      ]
     },
     "execution_count": 14,
     "metadata": {},
     "output_type": "execute_result"
    }
   ],
   "source": [
    "df_EDVisits.corr()"
   ]
  },
  {
   "cell_type": "code",
   "execution_count": 15,
   "id": "406e0b49",
   "metadata": {},
   "outputs": [
    {
     "data": {
      "text/plain": [
       "<AxesSubplot:>"
      ]
     },
     "execution_count": 15,
     "metadata": {},
     "output_type": "execute_result"
    },
    {
     "data": {
      "image/png": "[encoded data removed]",
      "text/plain": [
       "<Figure size 432x288 with 2 Axes>"
      ]
     },
     "metadata": {
      "needs_background": "light"
     },
     "output_type": "display_data"
    }
   ],
   "source": [
    "corrMatrix = df_EDVisits.corr()\n",
    "sns.heatmap(corrMatrix, annot=True)\n"
   ]
  },
  {
   "cell_type": "code",
   "execution_count": 16,
   "id": "2bd95c44",
   "metadata": {},
   "outputs": [
    {
     "ename": "SyntaxError",
     "evalue": "invalid syntax (90897459.py, line 3)",
     "output_type": "error",
     "traceback": [
      "\u001b[1;36m  Input \u001b[1;32mIn [16]\u001b[1;36m\u001b[0m\n\u001b[1;33m    pip install dython\u001b[0m\n\u001b[1;37m        ^\u001b[0m\n\u001b[1;31mSyntaxError\u001b[0m\u001b[1;31m:\u001b[0m invalid syntax\n"
     ]
    }
   ],
   "source": [
    "#to identify correlation between both numerical and categorical,we make use of library called dython\n",
    "\n",
    "pip install dython\n"
   ]
  },
  {
   "cell_type": "code",
   "execution_count": 17,
   "id": "c44ae5c3",
   "metadata": {},
   "outputs": [
    {
     "data": {
      "text/plain": [
       "['ReasonForVisit', 'EDDisposition']"
      ]
     },
     "execution_count": 17,
     "metadata": {},
     "output_type": "execute_result"
    }
   ],
   "source": [
    "#to identify categorical features\n",
    "from dython.nominal import associations\n",
    "from dython.nominal import identify_nominal_columns\n",
    "categorical_features=identify_nominal_columns(df_EDVisits)\n",
    "categorical_features"
   ]
  },
  {
   "cell_type": "code",
   "execution_count": 18,
   "id": "29224047",
   "metadata": {},
   "outputs": [],
   "source": [
    "#It calculates the correlation/strength-of-association of features in the data-set with both categorical and\n",
    "#continuous features using: Pearson’s R for continuous-continuous cases, Correlation Ratio for \n",
    "#categorical-continuous cases, Cramer’s V or Theil’s U for categorical-categorical cases."
   ]
  },
  {
   "cell_type": "code",
   "execution_count": 19,
   "id": "c0c62a56",
   "metadata": {},
   "outputs": [
    {
     "data": {
      "image/png": "[encoded data removed]",
      "text/plain": [
       "<Figure size 432x288 with 2 Axes>"
      ]
     },
     "metadata": {
      "needs_background": "light"
     },
     "output_type": "display_data"
    },
    {
     "data": {
      "text/plain": [
       "{'corr':                  EDVisitID  PatientID  VisitDate  EDDischargeTime    Acuity  \\\n",
       " EDVisitID         1.000000   0.975477   0.999880         0.997646  0.005813   \n",
       " PatientID         0.975477   1.000000   0.974286         0.972431  0.003545   \n",
       " VisitDate         0.999880   0.974286   1.000000         0.997729  0.005620   \n",
       " EDDischargeTime   0.997646   0.972431   0.997729         1.000000  0.003313   \n",
       " Acuity            0.005813   0.003545   0.005620         0.003313  1.000000   \n",
       " ReasonForVisit    0.051898   0.048944   0.051850         0.053280  0.720717   \n",
       " EDDisposition     0.006640   0.007777   0.006321         0.002162  0.675967   \n",
       " \n",
       "                  ReasonForVisit  EDDisposition  \n",
       " EDVisitID              0.051898       0.006640  \n",
       " PatientID              0.048944       0.007777  \n",
       " VisitDate              0.051850       0.006321  \n",
       " EDDischargeTime        0.053280       0.002162  \n",
       " Acuity                 0.720717       0.675967  \n",
       " ReasonForVisit         1.000000       0.561935  \n",
       " EDDisposition          0.561935       1.000000  ,\n",
       " 'ax': <AxesSubplot:>}"
      ]
     },
     "execution_count": 19,
     "metadata": {},
     "output_type": "execute_result"
    }
   ],
   "source": [
    "associations(df_EDVisits, nominal_columns='auto', numerical_columns=None, mark_columns=False, nom_nom_assoc='cramer', \n",
    "             num_num_assoc='pearson', \n",
    "             ax=None, figsize=None, annot=True, fmt='.2f', cmap=None, sv_color='silver', cbar=True, vmax=1.0, vmin=None, \n",
    "             plot=True, compute_only=False, clustering=False, title=None, filename=None)"
   ]
  },
  {
   "cell_type": "code",
   "execution_count": 20,
   "id": "ab751815",
   "metadata": {},
   "outputs": [
    {
     "data": {
      "image/png": "[encoded data removed]",
      "text/plain": [
       "<Figure size 720x720 with 2 Axes>"
      ]
     },
     "metadata": {
      "needs_background": "light"
     },
     "output_type": "display_data"
    },
    {
     "name": "stderr",
     "output_type": "stream",
     "text": [
      "C:\\Users\\Arjun-Meka\\AppData\\Local\\Temp\\ipykernel_27228\\1499895615.py:3: FutureWarning: this method is deprecated in favour of `Styler.format(precision=..)`\n",
      "  df_complete_corr.dropna(axis=1, how='all').dropna(axis=0, how='all').style.background_gradient(cmap='coolwarm', axis=None).set_precision(2)\n"
     ]
    },
    {
     "data": {
      "text/html": [
       "<style type=\"text/css\">\n",
       "#T_eed6d_row0_col0, #T_eed6d_row0_col2, #T_eed6d_row0_col3, #T_eed6d_row1_col1, #T_eed6d_row2_col0, #T_eed6d_row2_col2, #T_eed6d_row2_col3, #T_eed6d_row3_col0, #T_eed6d_row3_col2, #T_eed6d_row3_col3, #T_eed6d_row4_col4, #T_eed6d_row5_col5, #T_eed6d_row6_col6 {\n",
       "  background-color: #b40426;\n",
       "  color: #f1f1f1;\n",
       "}\n",
       "#T_eed6d_row0_col1, #T_eed6d_row1_col0, #T_eed6d_row1_col2, #T_eed6d_row2_col1 {\n",
       "  background-color: #bd1f2d;\n",
       "  color: #f1f1f1;\n",
       "}\n",
       "#T_eed6d_row0_col4, #T_eed6d_row1_col4, #T_eed6d_row2_col4, #T_eed6d_row3_col4, #T_eed6d_row3_col6, #T_eed6d_row4_col0, #T_eed6d_row4_col1, #T_eed6d_row4_col2, #T_eed6d_row4_col3, #T_eed6d_row6_col3 {\n",
       "  background-color: #3b4cc0;\n",
       "  color: #f1f1f1;\n",
       "}\n",
       "#T_eed6d_row0_col5, #T_eed6d_row1_col5, #T_eed6d_row2_col5, #T_eed6d_row5_col0, #T_eed6d_row5_col1, #T_eed6d_row5_col2 {\n",
       "  background-color: #4961d2;\n",
       "  color: #f1f1f1;\n",
       "}\n",
       "#T_eed6d_row0_col6, #T_eed6d_row1_col6, #T_eed6d_row2_col6, #T_eed6d_row6_col0, #T_eed6d_row6_col1, #T_eed6d_row6_col2 {\n",
       "  background-color: #3c4ec2;\n",
       "  color: #f1f1f1;\n",
       "}\n",
       "#T_eed6d_row1_col3, #T_eed6d_row3_col1 {\n",
       "  background-color: #be242e;\n",
       "  color: #f1f1f1;\n",
       "}\n",
       "#T_eed6d_row3_col5, #T_eed6d_row5_col3 {\n",
       "  background-color: #4a63d3;\n",
       "  color: #f1f1f1;\n",
       "}\n",
       "#T_eed6d_row4_col5, #T_eed6d_row5_col4 {\n",
       "  background-color: #f6a586;\n",
       "  color: #000000;\n",
       "}\n",
       "#T_eed6d_row4_col6, #T_eed6d_row6_col4 {\n",
       "  background-color: #f7b599;\n",
       "  color: #000000;\n",
       "}\n",
       "#T_eed6d_row5_col6, #T_eed6d_row6_col5 {\n",
       "  background-color: #ebd3c6;\n",
       "  color: #000000;\n",
       "}\n",
       "</style>\n",
       "<table id=\"T_eed6d\">\n",
       "  <thead>\n",
       "    <tr>\n",
       "      <th class=\"blank level0\" >&nbsp;</th>\n",
       "      <th id=\"T_eed6d_level0_col0\" class=\"col_heading level0 col0\" >EDVisitID</th>\n",
       "      <th id=\"T_eed6d_level0_col1\" class=\"col_heading level0 col1\" >PatientID</th>\n",
       "      <th id=\"T_eed6d_level0_col2\" class=\"col_heading level0 col2\" >VisitDate</th>\n",
       "      <th id=\"T_eed6d_level0_col3\" class=\"col_heading level0 col3\" >EDDischargeTime</th>\n",
       "      <th id=\"T_eed6d_level0_col4\" class=\"col_heading level0 col4\" >Acuity</th>\n",
       "      <th id=\"T_eed6d_level0_col5\" class=\"col_heading level0 col5\" >ReasonForVisit</th>\n",
       "      <th id=\"T_eed6d_level0_col6\" class=\"col_heading level0 col6\" >EDDisposition</th>\n",
       "    </tr>\n",
       "  </thead>\n",
       "  <tbody>\n",
       "    <tr>\n",
       "      <th id=\"T_eed6d_level0_row0\" class=\"row_heading level0 row0\" >EDVisitID</th>\n",
       "      <td id=\"T_eed6d_row0_col0\" class=\"data row0 col0\" >1.00</td>\n",
       "      <td id=\"T_eed6d_row0_col1\" class=\"data row0 col1\" >0.98</td>\n",
       "      <td id=\"T_eed6d_row0_col2\" class=\"data row0 col2\" >1.00</td>\n",
       "      <td id=\"T_eed6d_row0_col3\" class=\"data row0 col3\" >1.00</td>\n",
       "      <td id=\"T_eed6d_row0_col4\" class=\"data row0 col4\" >0.01</td>\n",
       "      <td id=\"T_eed6d_row0_col5\" class=\"data row0 col5\" >0.05</td>\n",
       "      <td id=\"T_eed6d_row0_col6\" class=\"data row0 col6\" >0.01</td>\n",
       "    </tr>\n",
       "    <tr>\n",
       "      <th id=\"T_eed6d_level0_row1\" class=\"row_heading level0 row1\" >PatientID</th>\n",
       "      <td id=\"T_eed6d_row1_col0\" class=\"data row1 col0\" >0.98</td>\n",
       "      <td id=\"T_eed6d_row1_col1\" class=\"data row1 col1\" >1.00</td>\n",
       "      <td id=\"T_eed6d_row1_col2\" class=\"data row1 col2\" >0.97</td>\n",
       "      <td id=\"T_eed6d_row1_col3\" class=\"data row1 col3\" >0.97</td>\n",
       "      <td id=\"T_eed6d_row1_col4\" class=\"data row1 col4\" >0.00</td>\n",
       "      <td id=\"T_eed6d_row1_col5\" class=\"data row1 col5\" >0.05</td>\n",
       "      <td id=\"T_eed6d_row1_col6\" class=\"data row1 col6\" >0.01</td>\n",
       "    </tr>\n",
       "    <tr>\n",
       "      <th id=\"T_eed6d_level0_row2\" class=\"row_heading level0 row2\" >VisitDate</th>\n",
       "      <td id=\"T_eed6d_row2_col0\" class=\"data row2 col0\" >1.00</td>\n",
       "      <td id=\"T_eed6d_row2_col1\" class=\"data row2 col1\" >0.97</td>\n",
       "      <td id=\"T_eed6d_row2_col2\" class=\"data row2 col2\" >1.00</td>\n",
       "      <td id=\"T_eed6d_row2_col3\" class=\"data row2 col3\" >1.00</td>\n",
       "      <td id=\"T_eed6d_row2_col4\" class=\"data row2 col4\" >0.01</td>\n",
       "      <td id=\"T_eed6d_row2_col5\" class=\"data row2 col5\" >0.05</td>\n",
       "      <td id=\"T_eed6d_row2_col6\" class=\"data row2 col6\" >0.01</td>\n",
       "    </tr>\n",
       "    <tr>\n",
       "      <th id=\"T_eed6d_level0_row3\" class=\"row_heading level0 row3\" >EDDischargeTime</th>\n",
       "      <td id=\"T_eed6d_row3_col0\" class=\"data row3 col0\" >1.00</td>\n",
       "      <td id=\"T_eed6d_row3_col1\" class=\"data row3 col1\" >0.97</td>\n",
       "      <td id=\"T_eed6d_row3_col2\" class=\"data row3 col2\" >1.00</td>\n",
       "      <td id=\"T_eed6d_row3_col3\" class=\"data row3 col3\" >1.00</td>\n",
       "      <td id=\"T_eed6d_row3_col4\" class=\"data row3 col4\" >0.00</td>\n",
       "      <td id=\"T_eed6d_row3_col5\" class=\"data row3 col5\" >0.05</td>\n",
       "      <td id=\"T_eed6d_row3_col6\" class=\"data row3 col6\" >0.00</td>\n",
       "    </tr>\n",
       "    <tr>\n",
       "      <th id=\"T_eed6d_level0_row4\" class=\"row_heading level0 row4\" >Acuity</th>\n",
       "      <td id=\"T_eed6d_row4_col0\" class=\"data row4 col0\" >0.01</td>\n",
       "      <td id=\"T_eed6d_row4_col1\" class=\"data row4 col1\" >0.00</td>\n",
       "      <td id=\"T_eed6d_row4_col2\" class=\"data row4 col2\" >0.01</td>\n",
       "      <td id=\"T_eed6d_row4_col3\" class=\"data row4 col3\" >0.00</td>\n",
       "      <td id=\"T_eed6d_row4_col4\" class=\"data row4 col4\" >1.00</td>\n",
       "      <td id=\"T_eed6d_row4_col5\" class=\"data row4 col5\" >0.72</td>\n",
       "      <td id=\"T_eed6d_row4_col6\" class=\"data row4 col6\" >0.68</td>\n",
       "    </tr>\n",
       "    <tr>\n",
       "      <th id=\"T_eed6d_level0_row5\" class=\"row_heading level0 row5\" >ReasonForVisit</th>\n",
       "      <td id=\"T_eed6d_row5_col0\" class=\"data row5 col0\" >0.05</td>\n",
       "      <td id=\"T_eed6d_row5_col1\" class=\"data row5 col1\" >0.05</td>\n",
       "      <td id=\"T_eed6d_row5_col2\" class=\"data row5 col2\" >0.05</td>\n",
       "      <td id=\"T_eed6d_row5_col3\" class=\"data row5 col3\" >0.05</td>\n",
       "      <td id=\"T_eed6d_row5_col4\" class=\"data row5 col4\" >0.72</td>\n",
       "      <td id=\"T_eed6d_row5_col5\" class=\"data row5 col5\" >1.00</td>\n",
       "      <td id=\"T_eed6d_row5_col6\" class=\"data row5 col6\" >0.56</td>\n",
       "    </tr>\n",
       "    <tr>\n",
       "      <th id=\"T_eed6d_level0_row6\" class=\"row_heading level0 row6\" >EDDisposition</th>\n",
       "      <td id=\"T_eed6d_row6_col0\" class=\"data row6 col0\" >0.01</td>\n",
       "      <td id=\"T_eed6d_row6_col1\" class=\"data row6 col1\" >0.01</td>\n",
       "      <td id=\"T_eed6d_row6_col2\" class=\"data row6 col2\" >0.01</td>\n",
       "      <td id=\"T_eed6d_row6_col3\" class=\"data row6 col3\" >0.00</td>\n",
       "      <td id=\"T_eed6d_row6_col4\" class=\"data row6 col4\" >0.68</td>\n",
       "      <td id=\"T_eed6d_row6_col5\" class=\"data row6 col5\" >0.56</td>\n",
       "      <td id=\"T_eed6d_row6_col6\" class=\"data row6 col6\" >1.00</td>\n",
       "    </tr>\n",
       "  </tbody>\n",
       "</table>\n"
      ],
      "text/plain": [
       "<pandas.io.formats.style.Styler at 0x1b9b922dd60>"
      ]
     },
     "execution_count": 20,
     "metadata": {},
     "output_type": "execute_result"
    }
   ],
   "source": [
    "complete_correlation= associations(df_EDVisits, filename= 'complete_correlation.png', figsize=(10,10))\n",
    "df_complete_corr=complete_correlation['corr']\n",
    "df_complete_corr.dropna(axis=1, how='all').dropna(axis=0, how='all').style.background_gradient(cmap='coolwarm', axis=None).set_precision(2)"
   ]
  },
  {
   "cell_type": "code",
   "execution_count": null,
   "id": "2f407a66",
   "metadata": {},
   "outputs": [],
   "source": []
  },
  {
   "cell_type": "code",
   "execution_count": 21,
   "id": "22a2af20",
   "metadata": {},
   "outputs": [
    {
     "name": "stdout",
     "output_type": "stream",
     "text": [
      "Enter a sentence\n",
      "The sentence entered is : \n",
      "The uppercase characters in the sentence are : []\n"
     ]
    }
   ],
   "source": [
    "#37)Write a function to print all the upper case letter of a given sentence\n",
    "\n",
    "# user input\n",
    "test_str=input(\"Enter a sentence\")\n",
    "  \n",
    "# printing the inputted sentence\n",
    "print(\"The sentence entered is : \" + str(test_str))\n",
    "  \n",
    "# Extract Upper Case Characters\n",
    "\n",
    "res = list(filter(lambda c: c.isupper(), test_str))\n",
    "  \n",
    "# printing result \n",
    "print(\"The uppercase characters in the sentence are : \" + str(res))"
   ]
  },
  {
   "cell_type": "code",
   "execution_count": null,
   "id": "1e9d018d",
   "metadata": {},
   "outputs": [],
   "source": []
  },
  {
   "cell_type": "code",
   "execution_count": 22,
   "id": "d0512086",
   "metadata": {},
   "outputs": [
    {
     "data": {
      "text/plain": [
       "PrimaryDiagnosis\n",
       "AMI                   0\n",
       "Afib                  1\n",
       "Broken Leg            0\n",
       "Diabetes              7\n",
       "Fever                 0\n",
       "Flu                   2\n",
       "Heart Failure         9\n",
       "Hip Fracture          0\n",
       "Hypertension          0\n",
       "Kidney Failure        0\n",
       "Knee Replacement      1\n",
       "Laceration            1\n",
       "Migraine              0\n",
       "Pain                  1\n",
       "Pneumonia             8\n",
       "Spinal Cord Injury    0\n",
       "Stroke                9\n",
       "dtype: int64"
      ]
     },
     "execution_count": 22,
     "metadata": {},
     "output_type": "execute_result"
    }
   ],
   "source": [
    "#38)Number of patients on 'Transfer' based on primary diagnosis\n",
    "df_ReAdmissionRegistry.head()\n",
    "df_ReAdmissionRegistry.groupby(['PrimaryDiagnosis']).apply(lambda x: x[x['DischargeDisposition'] == 'Transfer' ]['DischargeDisposition'].count())"
   ]
  },
  {
   "cell_type": "code",
   "execution_count": null,
   "id": "6ef76706",
   "metadata": {},
   "outputs": [],
   "source": []
  },
  {
   "cell_type": "markdown",
   "id": "e8a0e480",
   "metadata": {},
   "source": [
    " "
   ]
  },
  {
   "cell_type": "code",
   "execution_count": 23,
   "id": "8a112437",
   "metadata": {},
   "outputs": [
    {
     "data": {
      "text/html": [
       "<div>\n",
       "<style scoped>\n",
       "    .dataframe tbody tr th:only-of-type {\n",
       "        vertical-align: middle;\n",
       "    }\n",
       "\n",
       "    .dataframe tbody tr th {\n",
       "        vertical-align: top;\n",
       "    }\n",
       "\n",
       "    .dataframe thead th {\n",
       "        text-align: right;\n",
       "    }\n",
       "</style>\n",
       "<table border=\"1\" class=\"dataframe\">\n",
       "  <thead>\n",
       "    <tr style=\"text-align: right;\">\n",
       "      <th></th>\n",
       "      <th>PatientID</th>\n",
       "      <th>FirstName</th>\n",
       "      <th>LastName</th>\n",
       "      <th>DateOfBirth</th>\n",
       "      <th>ReasonForVisit</th>\n",
       "    </tr>\n",
       "  </thead>\n",
       "  <tbody>\n",
       "    <tr>\n",
       "      <th>0</th>\n",
       "      <td>2</td>\n",
       "      <td>Far</td>\n",
       "      <td>Myers</td>\n",
       "      <td>1985-11-15 02:08:42.090</td>\n",
       "      <td>Migraine</td>\n",
       "    </tr>\n",
       "    <tr>\n",
       "      <th>1</th>\n",
       "      <td>3</td>\n",
       "      <td>Devlin</td>\n",
       "      <td>Michael</td>\n",
       "      <td>1976-04-15 02:52:09.762</td>\n",
       "      <td>Migraine</td>\n",
       "    </tr>\n",
       "    <tr>\n",
       "      <th>2</th>\n",
       "      <td>12</td>\n",
       "      <td>Zonnya</td>\n",
       "      <td>Ab</td>\n",
       "      <td>1963-05-23 10:04:33.074</td>\n",
       "      <td>Migraine</td>\n",
       "    </tr>\n",
       "    <tr>\n",
       "      <th>3</th>\n",
       "      <td>14</td>\n",
       "      <td>Gan</td>\n",
       "      <td>Yu</td>\n",
       "      <td>1970-06-02 06:22:54.675</td>\n",
       "      <td>Migraine</td>\n",
       "    </tr>\n",
       "    <tr>\n",
       "      <th>4</th>\n",
       "      <td>22</td>\n",
       "      <td>Joesph</td>\n",
       "      <td>Long</td>\n",
       "      <td>1979-12-04 16:45:56.080</td>\n",
       "      <td>Migraine</td>\n",
       "    </tr>\n",
       "    <tr>\n",
       "      <th>...</th>\n",
       "      <td>...</td>\n",
       "      <td>...</td>\n",
       "      <td>...</td>\n",
       "      <td>...</td>\n",
       "      <td>...</td>\n",
       "    </tr>\n",
       "    <tr>\n",
       "      <th>111</th>\n",
       "      <td>897</td>\n",
       "      <td>Barrows</td>\n",
       "      <td>Coupland</td>\n",
       "      <td>1979-10-31 18:28:35.483</td>\n",
       "      <td>Migraine</td>\n",
       "    </tr>\n",
       "    <tr>\n",
       "      <th>112</th>\n",
       "      <td>908</td>\n",
       "      <td>Knox</td>\n",
       "      <td>Group</td>\n",
       "      <td>1975-08-25 22:27:50.177</td>\n",
       "      <td>Migraine</td>\n",
       "    </tr>\n",
       "    <tr>\n",
       "      <th>113</th>\n",
       "      <td>910</td>\n",
       "      <td>Kuvalis</td>\n",
       "      <td>Coupland</td>\n",
       "      <td>1986-05-23 19:23:27.752</td>\n",
       "      <td>Migraine</td>\n",
       "    </tr>\n",
       "    <tr>\n",
       "      <th>114</th>\n",
       "      <td>915</td>\n",
       "      <td>Jerrilyn</td>\n",
       "      <td>Dyson</td>\n",
       "      <td>1978-01-18 02:41:55.178</td>\n",
       "      <td>Migraine</td>\n",
       "    </tr>\n",
       "    <tr>\n",
       "      <th>115</th>\n",
       "      <td>924</td>\n",
       "      <td>Daniel</td>\n",
       "      <td>Shakesby</td>\n",
       "      <td>1980-11-28 17:57:03.702</td>\n",
       "      <td>Migraine</td>\n",
       "    </tr>\n",
       "  </tbody>\n",
       "</table>\n",
       "<p>116 rows × 5 columns</p>\n",
       "</div>"
      ],
      "text/plain": [
       "     PatientID FirstName  LastName             DateOfBirth ReasonForVisit\n",
       "0            2       Far     Myers 1985-11-15 02:08:42.090       Migraine\n",
       "1            3   Devlin    Michael 1976-04-15 02:52:09.762       Migraine\n",
       "2           12    Zonnya        Ab 1963-05-23 10:04:33.074       Migraine\n",
       "3           14       Gan        Yu 1970-06-02 06:22:54.675       Migraine\n",
       "4           22    Joesph      Long 1979-12-04 16:45:56.080       Migraine\n",
       "..         ...       ...       ...                     ...            ...\n",
       "111        897   Barrows  Coupland 1979-10-31 18:28:35.483       Migraine\n",
       "112        908      Knox     Group 1975-08-25 22:27:50.177       Migraine\n",
       "113        910   Kuvalis  Coupland 1986-05-23 19:23:27.752       Migraine\n",
       "114        915  Jerrilyn     Dyson 1978-01-18 02:41:55.178       Migraine\n",
       "115        924    Daniel  Shakesby 1980-11-28 17:57:03.702       Migraine\n",
       "\n",
       "[116 rows x 5 columns]"
      ]
     },
     "execution_count": 23,
     "metadata": {},
     "output_type": "execute_result"
    }
   ],
   "source": [
    "#39)Get the FirstName, LastName,DateOfBirth of the Patients whose reason for \n",
    "#visit is Migraine. Use EDUnique Sheet for reason for visit\n",
    "\n",
    "result = pd.merge(df_EDUnique, df_Patients, on='PatientID')\n",
    "result.head()\n",
    "df_all=result.loc[result['ReasonForVisit']=='Migraine',['PatientID','FirstName','LastName','DateOfBirth','ReasonForVisit']]\n",
    "df_all.sort_values('PatientID').reset_index(drop=True)"
   ]
  },
  {
   "cell_type": "code",
   "execution_count": null,
   "id": "4bd1875b",
   "metadata": {},
   "outputs": [],
   "source": []
  },
  {
   "cell_type": "code",
   "execution_count": 24,
   "id": "d792b756",
   "metadata": {},
   "outputs": [
    {
     "data": {
      "image/png": "[encoded data removed]",
      "text/plain": [
       "<Figure size 1440x576 with 1 Axes>"
      ]
     },
     "metadata": {
      "needs_background": "light"
     },
     "output_type": "display_data"
    }
   ],
   "source": [
    "#40)Plot a graph showing the count of patients for the reason visited the hospotal.\n",
    "\n",
    "import seaborn as sns\n",
    "import matplotlib.pyplot as plt\n",
    " \n",
    "plt.figure(figsize=(20,8))\n",
    "# count plot on single categorical variable\n",
    "ax=sns.countplot(x=df_EDUnique['ReasonForVisit'],data = df_EDUnique,order=df_EDUnique['ReasonForVisit'].value_counts().index)\n",
    "for p in ax.patches:\n",
    "    height = p.get_height()\n",
    "    ax.text(p.get_x()+0.25, height+ 3, 'patients=%.0f'%(height))\n",
    "# Show the plot\n",
    "plt.show()\n",
    "\n"
   ]
  },
  {
   "cell_type": "code",
   "execution_count": null,
   "id": "9136cd36",
   "metadata": {},
   "outputs": [],
   "source": [
    "\n"
   ]
  },
  {
   "cell_type": "code",
   "execution_count": 25,
   "id": "bd9e3e00",
   "metadata": {},
   "outputs": [
    {
     "data": {
      "text/plain": [
       "74"
      ]
     },
     "execution_count": 25,
     "metadata": {},
     "output_type": "execute_result"
    }
   ],
   "source": [
    "#41)Find the visit type with maximum 'No Show'\n",
    "\n",
    "df_AmbulatoryVisits.head()\n",
    "max(df_AmbulatoryVisits.groupby(['VisitType']).apply(lambda x: x[x['VisitStatus'] == 'No Show' ]['VisitType'].count()))\n"
   ]
  },
  {
   "cell_type": "code",
   "execution_count": null,
   "id": "7657bf46",
   "metadata": {},
   "outputs": [],
   "source": []
  },
  {
   "cell_type": "code",
   "execution_count": null,
   "id": "78bed9b6",
   "metadata": {},
   "outputs": [],
   "source": []
  }
 ],
 "metadata": {
  "kernelspec": {
   "display_name": "Python 3 (ipykernel)",
   "language": "python",
   "name": "python3"
  },
  "language_info": {
   "codemirror_mode": {
    "name": "ipython",
    "version": 3
   },
   "file_extension": ".py",
   "mimetype": "text/x-python",
   "name": "python",
   "nbconvert_exporter": "python",
   "pygments_lexer": "ipython3",
   "version": "3.9.12"
  }
 },
 "nbformat": 4,
 "nbformat_minor": 5
}
